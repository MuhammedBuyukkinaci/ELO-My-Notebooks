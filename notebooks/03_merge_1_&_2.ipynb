{
 "cells": [
  {
   "cell_type": "code",
   "execution_count": 1,
   "metadata": {},
   "outputs": [],
   "source": [
    "import pandas as pd\n",
    "import numpy as np\n",
    "import dask.dataframe as dd\n",
    "import os\n",
    "import sys\n",
    "import missingno as msno\n",
    "import matplotlib.pyplot as plt\n",
    "import seaborn as sns\n",
    "from tqdm import tqdm, tqdm_notebook\n",
    "from collections import Counter\n",
    "tqdm.pandas(tqdm_notebook)\n",
    "import gc"
   ]
  },
  {
   "cell_type": "code",
   "execution_count": 2,
   "metadata": {},
   "outputs": [
    {
     "name": "stdout",
     "output_type": "stream",
     "text": [
      "CPU times: user 8.87 s, sys: 417 ms, total: 9.29 s\n",
      "Wall time: 9.29 s\n"
     ]
    }
   ],
   "source": [
    "%%time\n",
    "train1 = pd.read_csv('train_processed.csv')\n",
    "train2 = pd.read_csv('train_processed_2.csv')\n",
    "test1 = pd.read_csv('test_processed.csv')\n",
    "test2 = pd.read_csv('test_processed_2.csv')"
   ]
  },
  {
   "cell_type": "code",
   "execution_count": 3,
   "metadata": {},
   "outputs": [
    {
     "data": {
      "text/plain": [
       "((201917, 102), (201917, 102), (123623, 101), (123623, 101))"
      ]
     },
     "execution_count": 3,
     "metadata": {},
     "output_type": "execute_result"
    }
   ],
   "source": [
    "train1.shape,train2.shape,test1.shape,test2.shape"
   ]
  },
  {
   "cell_type": "code",
   "execution_count": 4,
   "metadata": {},
   "outputs": [
    {
     "data": {
      "text/html": [
       "<div>\n",
       "<style scoped>\n",
       "    .dataframe tbody tr th:only-of-type {\n",
       "        vertical-align: middle;\n",
       "    }\n",
       "\n",
       "    .dataframe tbody tr th {\n",
       "        vertical-align: top;\n",
       "    }\n",
       "\n",
       "    .dataframe thead th {\n",
       "        text-align: right;\n",
       "    }\n",
       "</style>\n",
       "<table border=\"1\" class=\"dataframe\">\n",
       "  <thead>\n",
       "    <tr style=\"text-align: right;\">\n",
       "      <th></th>\n",
       "      <th>first_active_month</th>\n",
       "      <th>card_id</th>\n",
       "      <th>feature_1</th>\n",
       "      <th>feature_2</th>\n",
       "      <th>feature_3</th>\n",
       "      <th>target</th>\n",
       "      <th>active_year</th>\n",
       "      <th>active_month</th>\n",
       "      <th>h_af_sum</th>\n",
       "      <th>h_af_count</th>\n",
       "      <th>...</th>\n",
       "      <th>h_num_second_most_common_state_id</th>\n",
       "      <th>h_third_most_common_state_id</th>\n",
       "      <th>h_num_third_most_common_state_id</th>\n",
       "      <th>h_how_many_unique_subsector_id</th>\n",
       "      <th>h_most_common_subsector_id</th>\n",
       "      <th>h_num_most_common_subsector_id</th>\n",
       "      <th>h_second_most_common_subsector_id</th>\n",
       "      <th>h_num_second_most_common_subsector_id</th>\n",
       "      <th>h_third_most_common_subsector_id</th>\n",
       "      <th>h_num_third_most_common_subsector_id</th>\n",
       "    </tr>\n",
       "  </thead>\n",
       "  <tbody>\n",
       "    <tr>\n",
       "      <th>0</th>\n",
       "      <td>2017-06</td>\n",
       "      <td>C_ID_92a2005557</td>\n",
       "      <td>5</td>\n",
       "      <td>2</td>\n",
       "      <td>1</td>\n",
       "      <td>-0.820283</td>\n",
       "      <td>2017</td>\n",
       "      <td>6</td>\n",
       "      <td>247</td>\n",
       "      <td>260</td>\n",
       "      <td>...</td>\n",
       "      <td>2.0</td>\n",
       "      <td>20.0</td>\n",
       "      <td>1.0</td>\n",
       "      <td>21</td>\n",
       "      <td>34</td>\n",
       "      <td>97</td>\n",
       "      <td>37.0</td>\n",
       "      <td>59.0</td>\n",
       "      <td>39.0</td>\n",
       "      <td>27.0</td>\n",
       "    </tr>\n",
       "    <tr>\n",
       "      <th>1</th>\n",
       "      <td>2017-01</td>\n",
       "      <td>C_ID_3d0044924f</td>\n",
       "      <td>4</td>\n",
       "      <td>1</td>\n",
       "      <td>0</td>\n",
       "      <td>0.392913</td>\n",
       "      <td>2017</td>\n",
       "      <td>1</td>\n",
       "      <td>339</td>\n",
       "      <td>350</td>\n",
       "      <td>...</td>\n",
       "      <td>31.0</td>\n",
       "      <td>15.0</td>\n",
       "      <td>10.0</td>\n",
       "      <td>24</td>\n",
       "      <td>34</td>\n",
       "      <td>74</td>\n",
       "      <td>37.0</td>\n",
       "      <td>59.0</td>\n",
       "      <td>19.0</td>\n",
       "      <td>54.0</td>\n",
       "    </tr>\n",
       "    <tr>\n",
       "      <th>2</th>\n",
       "      <td>2016-08</td>\n",
       "      <td>C_ID_d639edf6cd</td>\n",
       "      <td>2</td>\n",
       "      <td>2</td>\n",
       "      <td>0</td>\n",
       "      <td>0.688056</td>\n",
       "      <td>2016</td>\n",
       "      <td>8</td>\n",
       "      <td>41</td>\n",
       "      <td>43</td>\n",
       "      <td>...</td>\n",
       "      <td>4.0</td>\n",
       "      <td>NaN</td>\n",
       "      <td>NaN</td>\n",
       "      <td>7</td>\n",
       "      <td>33</td>\n",
       "      <td>32</td>\n",
       "      <td>37.0</td>\n",
       "      <td>4.0</td>\n",
       "      <td>16.0</td>\n",
       "      <td>3.0</td>\n",
       "    </tr>\n",
       "    <tr>\n",
       "      <th>3</th>\n",
       "      <td>2017-09</td>\n",
       "      <td>C_ID_186d6a6901</td>\n",
       "      <td>4</td>\n",
       "      <td>3</td>\n",
       "      <td>0</td>\n",
       "      <td>0.142495</td>\n",
       "      <td>2017</td>\n",
       "      <td>9</td>\n",
       "      <td>77</td>\n",
       "      <td>77</td>\n",
       "      <td>...</td>\n",
       "      <td>12.0</td>\n",
       "      <td>9.0</td>\n",
       "      <td>10.0</td>\n",
       "      <td>13</td>\n",
       "      <td>37</td>\n",
       "      <td>24</td>\n",
       "      <td>27.0</td>\n",
       "      <td>13.0</td>\n",
       "      <td>29.0</td>\n",
       "      <td>12.0</td>\n",
       "    </tr>\n",
       "    <tr>\n",
       "      <th>4</th>\n",
       "      <td>2017-11</td>\n",
       "      <td>C_ID_cdbd2c0db2</td>\n",
       "      <td>1</td>\n",
       "      <td>3</td>\n",
       "      <td>0</td>\n",
       "      <td>-0.159749</td>\n",
       "      <td>2017</td>\n",
       "      <td>11</td>\n",
       "      <td>128</td>\n",
       "      <td>133</td>\n",
       "      <td>...</td>\n",
       "      <td>15.0</td>\n",
       "      <td>9.0</td>\n",
       "      <td>8.0</td>\n",
       "      <td>17</td>\n",
       "      <td>37</td>\n",
       "      <td>79</td>\n",
       "      <td>29.0</td>\n",
       "      <td>12.0</td>\n",
       "      <td>27.0</td>\n",
       "      <td>8.0</td>\n",
       "    </tr>\n",
       "  </tbody>\n",
       "</table>\n",
       "<p>5 rows × 102 columns</p>\n",
       "</div>"
      ],
      "text/plain": [
       "  first_active_month          card_id  feature_1  feature_2  feature_3  \\\n",
       "0            2017-06  C_ID_92a2005557          5          2          1   \n",
       "1            2017-01  C_ID_3d0044924f          4          1          0   \n",
       "2            2016-08  C_ID_d639edf6cd          2          2          0   \n",
       "3            2017-09  C_ID_186d6a6901          4          3          0   \n",
       "4            2017-11  C_ID_cdbd2c0db2          1          3          0   \n",
       "\n",
       "     target  active_year  active_month  h_af_sum  h_af_count  \\\n",
       "0 -0.820283         2017             6       247         260   \n",
       "1  0.392913         2017             1       339         350   \n",
       "2  0.688056         2016             8        41          43   \n",
       "3  0.142495         2017             9        77          77   \n",
       "4 -0.159749         2017            11       128         133   \n",
       "\n",
       "                   ...                   h_num_second_most_common_state_id  \\\n",
       "0                  ...                                                 2.0   \n",
       "1                  ...                                                31.0   \n",
       "2                  ...                                                 4.0   \n",
       "3                  ...                                                12.0   \n",
       "4                  ...                                                15.0   \n",
       "\n",
       "   h_third_most_common_state_id  h_num_third_most_common_state_id  \\\n",
       "0                          20.0                               1.0   \n",
       "1                          15.0                              10.0   \n",
       "2                           NaN                               NaN   \n",
       "3                           9.0                              10.0   \n",
       "4                           9.0                               8.0   \n",
       "\n",
       "   h_how_many_unique_subsector_id  h_most_common_subsector_id  \\\n",
       "0                              21                          34   \n",
       "1                              24                          34   \n",
       "2                               7                          33   \n",
       "3                              13                          37   \n",
       "4                              17                          37   \n",
       "\n",
       "   h_num_most_common_subsector_id  h_second_most_common_subsector_id  \\\n",
       "0                              97                               37.0   \n",
       "1                              74                               37.0   \n",
       "2                              32                               37.0   \n",
       "3                              24                               27.0   \n",
       "4                              79                               29.0   \n",
       "\n",
       "   h_num_second_most_common_subsector_id  h_third_most_common_subsector_id  \\\n",
       "0                                   59.0                              39.0   \n",
       "1                                   59.0                              19.0   \n",
       "2                                    4.0                              16.0   \n",
       "3                                   13.0                              29.0   \n",
       "4                                   12.0                              27.0   \n",
       "\n",
       "   h_num_third_most_common_subsector_id  \n",
       "0                                  27.0  \n",
       "1                                  54.0  \n",
       "2                                   3.0  \n",
       "3                                  12.0  \n",
       "4                                   8.0  \n",
       "\n",
       "[5 rows x 102 columns]"
      ]
     },
     "execution_count": 4,
     "metadata": {},
     "output_type": "execute_result"
    }
   ],
   "source": [
    "train1.head()"
   ]
  },
  {
   "cell_type": "code",
   "execution_count": 5,
   "metadata": {},
   "outputs": [],
   "source": [
    "used_columns = ['card_id'] + [x for x in train2.columns if x not in train1.columns ]"
   ]
  },
  {
   "cell_type": "code",
   "execution_count": 6,
   "metadata": {},
   "outputs": [
    {
     "name": "stdout",
     "output_type": "stream",
     "text": [
      "CPU times: user 1.98 s, sys: 1.95 s, total: 3.92 s\n",
      "Wall time: 3.92 s\n"
     ]
    }
   ],
   "source": [
    "%%time\n",
    "train = train1.merge(train2[used_columns],how = 'left',on = 'card_id')\n",
    "test = test1.merge(test2[used_columns],how = 'left',on = 'card_id')"
   ]
  },
  {
   "cell_type": "code",
   "execution_count": 7,
   "metadata": {},
   "outputs": [
    {
     "data": {
      "text/plain": [
       "((201917, 196), (123623, 195))"
      ]
     },
     "execution_count": 7,
     "metadata": {},
     "output_type": "execute_result"
    }
   ],
   "source": [
    "train.shape,test.shape"
   ]
  },
  {
   "cell_type": "code",
   "execution_count": 8,
   "metadata": {},
   "outputs": [],
   "source": [
    "train.to_csv('train_merged.csv',index=False)\n",
    "test.to_csv('test_merged.csv',index=False)"
   ]
  }
 ],
 "metadata": {
  "kernelspec": {
   "display_name": "Python 3",
   "language": "python",
   "name": "python3"
  },
  "language_info": {
   "codemirror_mode": {
    "name": "ipython",
    "version": 3
   },
   "file_extension": ".py",
   "mimetype": "text/x-python",
   "name": "python",
   "nbconvert_exporter": "python",
   "pygments_lexer": "ipython3",
   "version": "3.6.7"
  }
 },
 "nbformat": 4,
 "nbformat_minor": 2
}
