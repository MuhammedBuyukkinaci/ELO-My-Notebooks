{
 "cells": [
  {
   "cell_type": "code",
   "execution_count": 1,
   "metadata": {},
   "outputs": [],
   "source": [
    "#Importing libraries\n",
    "import pandas as pd\n",
    "import numpy as np\n",
    "import dask.dataframe as dd\n",
    "import os\n",
    "import sys\n",
    "import missingno as msno\n",
    "import matplotlib.pyplot as plt\n",
    "import seaborn as sns\n",
    "from tqdm import tqdm, tqdm_notebook\n",
    "import time\n",
    "from collections import Counter\n",
    "tqdm.pandas(tqdm_notebook)\n",
    "import lightgbm as lgb\n",
    "import gc\n",
    "import datetime\n",
    "pd.set_option('display.max_rows', 500)\n",
    "pd.set_option('display.max_columns', 500)\n",
    "from sklearn import preprocessing\n",
    "from sklearn.metrics import mean_squared_error\n",
    "from sklearn.metrics import roc_auc_score\n",
    "from sklearn.model_selection import KFold\n",
    "from sklearn.linear_model import LinearRegression,Ridge,Lasso\n",
    "import matplotlib.gridspec as gridspec\n",
    "pd.set_option('display.float_format', '{:.5f}'.format)\n",
    "SEED = 51\n",
    "np.random.seed(SEED)\n",
    "%matplotlib inline"
   ]
  },
  {
   "cell_type": "code",
   "execution_count": 2,
   "metadata": {},
   "outputs": [
    {
     "name": "stdout",
     "output_type": "stream",
     "text": [
      "(201917, 2) (201917, 2) (201917, 2)\n",
      "(123623, 2) (123623, 2) (123623, 2)\n"
     ]
    }
   ],
   "source": [
    "train1 = pd.read_csv('train_binary_preds.csv')\n",
    "train2 = pd.read_csv('train_outlierless.csv')\n",
    "train3 = pd.read_csv('train_reg_preds.csv')\n",
    "test1 = pd.read_csv('test_binary_preds.csv')\n",
    "test2 = pd.read_csv('test_outlierless.csv')\n",
    "test3 = pd.read_csv('test_reg_preds.csv')\n",
    "#train1 = train1.sort_values(by = 'card_id',ascending=False)\n",
    "#train2 = train2.sort_values(by = 'card_id',ascending=False)\n",
    "#train3 = train3.sort_values(by = 'card_id',ascending=False)\n",
    "train1 = train1.reset_index(drop=True)\n",
    "train2 = train2.reset_index(drop=True)\n",
    "train3 = train3.reset_index(drop=True)\n",
    "print(train1.shape,train2.shape,train3.shape)\n",
    "print(test1.shape,test2.shape,test3.shape)"
   ]
  },
  {
   "cell_type": "code",
   "execution_count": 3,
   "metadata": {},
   "outputs": [],
   "source": [
    "train = pd.read_csv('../input/train.csv')\n",
    "train = train.sort_values(by = 'card_id',ascending=False)\n",
    "train = train.reset_index(drop=True)\n",
    "y_ = train[['card_id','target']]"
   ]
  },
  {
   "cell_type": "code",
   "execution_count": 4,
   "metadata": {},
   "outputs": [],
   "source": [
    "train_ = train1.merge(train2,how = 'left',on = 'card_id')\n",
    "train_ = train_.merge(train3,how = 'left',on = 'card_id')\n",
    "train_ = train_.merge(y_,how = 'left',on = 'card_id')"
   ]
  },
  {
   "cell_type": "code",
   "execution_count": 5,
   "metadata": {},
   "outputs": [],
   "source": [
    "test = test1.merge(test2,how = 'left',on = 'card_id')\n",
    "test = test.merge(test3,how = 'left',on = 'card_id')"
   ]
  },
  {
   "cell_type": "code",
   "execution_count": 11,
   "metadata": {},
   "outputs": [],
   "source": [
    "y = train_['target']\n",
    "train = train_[['card_id','binary_prob','without_outlier']]"
   ]
  },
  {
   "cell_type": "code",
   "execution_count": 12,
   "metadata": {},
   "outputs": [],
   "source": [
    "feats = [c for c in train.columns if c not in ['card_id', 'first_active_month'] ]"
   ]
  },
  {
   "cell_type": "code",
   "execution_count": 13,
   "metadata": {},
   "outputs": [],
   "source": [
    "stratified = False\n",
    "\n",
    "if stratified:\n",
    "    folds = StratifiedKFold(n_splits= num_folds, shuffle=True, random_state=SEED)\n",
    "else:\n",
    "    folds = KFold(n_splits= 5, shuffle=True, random_state=SEED)\n",
    "\n",
    "# Create arrays and dataframes to store results\n",
    "oof_preds = np.zeros(train.shape[0])\n",
    "sub_preds = np.zeros(test.shape[0])\n",
    "feature_importance_df = pd.DataFrame()"
   ]
  },
  {
   "cell_type": "code",
   "execution_count": 14,
   "metadata": {},
   "outputs": [],
   "source": [
    "# rmse\n",
    "def rmse(y_true, y_pred):\n",
    "    return np.sqrt(mean_squared_error(y_true, y_pred))"
   ]
  },
  {
   "cell_type": "code",
   "execution_count": 15,
   "metadata": {},
   "outputs": [
    {
     "name": "stdout",
     "output_type": "stream",
     "text": [
      "Fold  1 RMSE : 3.711541\n",
      "Fold  2 RMSE : 3.571584\n",
      "Fold  3 RMSE : 3.717328\n",
      "Fold  4 RMSE : 3.599152\n",
      "Fold  5 RMSE : 3.606067\n",
      "Average RMSE = 3.6416450039106136\n",
      "CPU times: user 1.02 s, sys: 1.45 s, total: 2.47 s\n",
      "Wall time: 378 ms\n"
     ]
    }
   ],
   "source": [
    "%%time\n",
    "# k-fold\n",
    "for n_fold, (train_idx, valid_idx) in enumerate(folds.split(train[feats],y)):\n",
    "    train_x, train_y = train[feats].iloc[train_idx], y.iloc[train_idx]\n",
    "    valid_x, valid_y = train[feats].iloc[valid_idx], y.iloc[valid_idx]\n",
    "    \n",
    "    reg = LinearRegression(normalize=False)\n",
    "    \n",
    "    reg.fit(train_x,train_y)\n",
    "    \n",
    "    oof_preds[valid_idx] = reg.predict(valid_x)\n",
    "    sub_preds += reg.predict(test[feats]) / folds.n_splits\n",
    "    print('Fold %2d RMSE : %.6f' % (n_fold + 1, rmse(valid_y, oof_preds[valid_idx])))\n",
    "    del reg, train_x, train_y, valid_x, valid_y\n",
    "    gc.collect()\n",
    "print(\"Average RMSE = {}\".format(rmse(y,oof_preds)))"
   ]
  },
  {
   "cell_type": "code",
   "execution_count": 16,
   "metadata": {},
   "outputs": [],
   "source": [
    "test['target'] = sub_preds"
   ]
  },
  {
   "cell_type": "code",
   "execution_count": 17,
   "metadata": {},
   "outputs": [],
   "source": [
    "submission_file_name = '../my_submissions/deneme5.csv'\n",
    "test[['card_id', 'target']].to_csv(submission_file_name, index=False)"
   ]
  }
 ],
 "metadata": {
  "kernelspec": {
   "display_name": "Python 3",
   "language": "python",
   "name": "python3"
  },
  "language_info": {
   "codemirror_mode": {
    "name": "ipython",
    "version": 3
   },
   "file_extension": ".py",
   "mimetype": "text/x-python",
   "name": "python",
   "nbconvert_exporter": "python",
   "pygments_lexer": "ipython3",
   "version": "3.6.7"
  }
 },
 "nbformat": 4,
 "nbformat_minor": 2
}
